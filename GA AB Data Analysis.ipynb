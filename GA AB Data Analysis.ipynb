{
 "cells": [
  {
   "cell_type": "markdown",
   "id": "5957e720",
   "metadata": {},
   "source": [
    "# Georgia Absentee Ballot Data Analysis\n",
    "### Exploratory Analysis of Rejected Absentee Ballots and Applications for the 2020 and 2022 Georgia General Election\n",
    "\n",
    "The Georgia Secretary of State uploads updated Absentee Files to https://sos.ga.gov/page/voter-absentee-files for public use. \n",
    "\n",
    "I was not able to webscrape this data, so I manually downloaded the “STATEWIDE” level data for the “11/03/2020- GENERAL/SPECIAL ELECTION” and “11/08/2022 - GENERAL/SPECIAL ELECTION” to conduct my research. You can find these downloaded datasets in this dropbox folder: https://uchicago.box.com/s/aqgtlbtkkb2bh34saaw5d5z4fam41vvf \n"
   ]
  },
  {
   "cell_type": "markdown",
   "id": "802c5320",
   "metadata": {},
   "source": [
    "Voter suppression has been on the rise over the past decade, specifically attacking Absentee Voting. Georgia has been central in the fight againsst voter suppression. In this exploratory research project, I aimed to analyze Absentee Application and Ballot Rejections from the past two General Elections. I last downloaded the 2022 data on 11/13, but since then the numbers have been updated and the election results resulted in a runoff."
   ]
  },
  {
   "cell_type": "markdown",
   "id": "04531535",
   "metadata": {},
   "source": [
    "## Where did the most ballot and application rejections happen?\n",
    "\n",
    "The code below creates four different Chloropleths of Georgia illustrating the counties with a color differentiation based on the number of rejections. Most counties had less than 1000 rejections, but the major ones were easily highlighted on the Chloropleths."
   ]
  },
  {
   "cell_type": "code",
   "execution_count": 51,
   "id": "b10111ba",
   "metadata": {},
   "outputs": [],
   "source": [
    "import pandas as pd\n",
    "import os\n",
    "import geopandas\n",
    "import matplotlib.pyplot as plt\n",
    "import seaborn as sns\n",
    "import csv\n",
    "import numpy as np\n",
    "import bokeh\n",
    "from bokeh.plotting import figure, show\n",
    "from bokeh.layouts import gridplot\n",
    "from ipywidgets import interact, interact_manual\n",
    "from bokeh.io import output_notebook"
   ]
  },
  {
   "cell_type": "code",
   "execution_count": 55,
   "id": "96c7bcfd",
   "metadata": {},
   "outputs": [],
   "source": [
    "path ='/Users/shanelsingh/Documents/Documents - Shanel’s MacBook Pro/GitHub/Data and Programming Final Project/'\n",
    "os.chdir(path)\n",
    "\n",
    "# Loading GEORGIA 2020 and 2022 Absentee Data \n",
    "GA_2020 = pd.read_csv(os.path.join(path,'GEORGIA AB DATA/2020 STATEWIDE AB Data.csv'), encoding='latin-1', low_memory=False)\n",
    "GA_2022 = pd.read_csv(os.path.join(path,'GEORGIA AB DATA/2022 STATEWIDE AB Data.csv'), encoding='latin-1', low_memory=False)"
   ]
  },
  {
   "cell_type": "code",
   "execution_count": 56,
   "id": "aa67711d",
   "metadata": {},
   "outputs": [],
   "source": [
    "def get_clean_data(df): \n",
    "    df_columns = df[['County','Voter Registration #','City','Mailing Zip Code', 'Application Status','Ballot Status', 'Status Reason',]]\n",
    "    df_ab_apps = df_columns[(df_columns['Ballot Status'] != \"A\") | (df_columns['Application Status'] != \"A\")]\n",
    "    return (df_ab_apps)\n",
    "    \n",
    "GA_2020_rejected = get_clean_data(GA_2020)\n",
    "GA_2022_rejected = get_clean_data(GA_2022)\n",
    "\n",
    "def get_rejected_counts(df):\n",
    "    df_reject_apps = df[df['Application Status'] == \"R\"]\n",
    "    df_apps_groupby_county = df_reject_apps.groupby('County').count()\n",
    "    df_apps_by_county = df_apps_groupby_county['Application Status']\n",
    "    df_reject_ab = df[df['Ballot Status'] == \"R\"]\n",
    "    df_ab_groupby_county = df_reject_ab.groupby('County').count()\n",
    "    df_ab_by_county = df_ab_groupby_county['Ballot Status']\n",
    "    df_rejected_counts = pd.concat([df_ab_by_county,df_apps_by_county], axis=1)\n",
    "    df_rejected_counts = df_rejected_counts.reset_index()\n",
    "    df_rejected_counts = df_rejected_counts.fillna(0)\n",
    "    return (df_rejected_counts)\n",
    "\n",
    "GA_2020_rejected_counts = get_rejected_counts(GA_2020_rejected)\n",
    "GA_2022_rejected_counts = get_rejected_counts(GA_2022_rejected)"
   ]
  },
  {
   "cell_type": "code",
   "execution_count": 57,
   "id": "3d842e97",
   "metadata": {},
   "outputs": [
    {
     "name": "stdout",
     "output_type": "stream",
     "text": [
      "       County  2022 Ballots Rejected  2022 Applications Rejected  \\\n",
      "0      BARTOW                   16.0                        38.0   \n",
      "1        BIBB                   85.0                        55.0   \n",
      "2    BLECKLEY                    2.0                         0.0   \n",
      "3       BRYAN                    4.0                         0.0   \n",
      "4     BULLOCH                    5.0                         6.0   \n",
      "..        ...                    ...                         ...   \n",
      "141   WHEELER                    0.0                         0.0   \n",
      "142  BRANTLEY                    0.0                         0.0   \n",
      "143    CLINCH                    0.0                         0.0   \n",
      "144   JOHNSON                    0.0                         0.0   \n",
      "145   SCREVEN                    0.0                         0.0   \n",
      "\n",
      "     2020 Ballots Rejected  2020 Applications Rejected  \n",
      "0                     55.0                         1.0  \n",
      "1                      5.0                        20.0  \n",
      "2                      2.0                         2.0  \n",
      "3                     26.0                         2.0  \n",
      "4                     14.0                         2.0  \n",
      "..                     ...                         ...  \n",
      "141                    2.0                         0.0  \n",
      "142                    0.0                         1.0  \n",
      "143                    0.0                         2.0  \n",
      "144                    0.0                         2.0  \n",
      "145                    0.0                         5.0  \n",
      "\n",
      "[146 rows x 5 columns]\n"
     ]
    }
   ],
   "source": [
    "GA_rejected_counts = pd.merge(GA_2022_rejected_counts, GA_2020_rejected_counts, how='outer', on='County')\n",
    "GA_rejected_counts = GA_rejected_counts.fillna(0)\n",
    "GA_rejected_counts.columns\n",
    "GA_rejected_counts = GA_rejected_counts.rename(columns={'Application Status_x': '2022 Applications Rejected',\n",
    "                                                        'Ballot Status_x': '2022 Ballots Rejected',\n",
    "                                                        'Application Status_y': '2020 Applications Rejected', \n",
    "                                                        'Ballot Status_y': '2020 Ballots Rejected'})\n",
    "print(GA_rejected_counts)"
   ]
  },
  {
   "cell_type": "markdown",
   "id": "707ab6c8",
   "metadata": {},
   "source": [
    "**GEORGIA COUNTY SHAPE FILES** https://arc-garc.opendata.arcgis.com/datasets/dc20713282734a73abe990995de40497/explore?location=32.608435%2C-81.663229%2C6.85\n",
    "\n",
    "The code below uses county-level shape files to visualize the Absentee reject data through a bokeh interactive Chloropleth. \n"
   ]
  },
  {
   "cell_type": "code",
   "execution_count": 47,
   "id": "ba6fdd9b",
   "metadata": {},
   "outputs": [],
   "source": [
    "path = '/Users/shanelsingh/Documents/Documents - Shanel’s MacBook Pro/GitHub/final-project-ga-ab-analysis/'\n",
    "os.chdir(path)\n",
    "GA_counties = geopandas.read_file(os.path.join(path,'Counties_Georgia/Counties_Georgia.shp'))\n",
    "GA_counties = GA_counties[['COUNTYFP10','NAMELSAD10', 'totpop10','Label','geometry']]\n",
    "GA_data = pd.merge(GA_counties, GA_rejected_counts, how='outer', left_on='Label', right_on='County')\n",
    "GA_data = GA_data.drop('County',axis=1)\n",
    "GA_data = GA_data.fillna(0)\n",
    "GA_data = GA_data.rename(columns={'NAMELSAD10':'County Name'})"
   ]
  },
  {
   "cell_type": "code",
   "execution_count": 48,
   "id": "132b06cd",
   "metadata": {},
   "outputs": [
    {
     "data": {
      "application/vnd.jupyter.widget-view+json": {
       "model_id": "c94e59571b244924bd9820cf34ca6db4",
       "version_major": 2,
       "version_minor": 0
      },
      "text/plain": [
       "interactive(children=(Dropdown(description='ab_year', options=('2020 Ballots Rejected', '2022 Ballots Rejected…"
      ]
     },
     "metadata": {},
     "output_type": "display_data"
    }
   ],
   "source": [
    "ab_years = ['2020 Ballots Rejected','2022 Ballots Rejected'] \n",
    "app_years = ['2020 Applications Rejected','2022 Applications Rejected']\n",
    "\n",
    "@interact_manual(ab_year=ab_years, app_year=app_years)\n",
    "def plot_county_ballot_data(ab_year=ab_years, app_year=app_years):\n",
    "    fig, axs = plt.subplots(1,2, figsize=(15,15)) \n",
    "    \n",
    "    from mpl_toolkits.axes_grid1 import make_axes_locatable\n",
    "    divider = make_axes_locatable(axs[0])\n",
    "    cax=divider.append_axes('right',size ='5%',pad=0.1)\n",
    "        \n",
    "    axs[0] =  GA_data.plot(ax=axs[0], column=GA_data[ab_year], edgecolor='grey', legend=True, cax=cax, cmap='Greens')\n",
    "    axs[0].axis('off')\n",
    "    axs[0].set_title('GA '+ ab_year);\n",
    "    \n",
    "    from mpl_toolkits.axes_grid1 import make_axes_locatable\n",
    "    divider = make_axes_locatable(axs[1])\n",
    "    cax=divider.append_axes('right',size ='5%',pad=0.1)\n",
    "        \n",
    "    axs[1] =  GA_data.plot(ax=axs[1], column=GA_data[app_year], edgecolor='grey', legend=True, cax=cax, cmap='Greens')\n",
    "    axs[1].axis('off')\n",
    "    axs[1].set_title('GA '+ app_year);\n",
    "    return"
   ]
  },
  {
   "cell_type": "markdown",
   "id": "49292265",
   "metadata": {},
   "source": [
    "## Is there a relationship between ballot rejections and county demographics?\n",
    "\n",
    "To study the relationship between ballot and applicatoin rejections and demographics, I ran OLS regressions on different Census demographic data. To collect the data, I web scraped Georgia county level data from the Census from the 2021 American Community Survey. I regressed the number of individuals commuting to work on public transportation, median household income, and employment status (civilian workforce) on the two variables for each year. "
   ]
  },
  {
   "cell_type": "code",
   "execution_count": 31,
   "id": "f1b093fe",
   "metadata": {},
   "outputs": [],
   "source": [
    "#Get Census Data \n",
    "import requests\n",
    "api_key = '34c857903965a90eca2ae56cb47efed22f82d774'\n",
    "url = 'https://api.census.gov/data/2021/acs/acs1/profile?get=group(DP03)&for=county:*&in=state:13&key=34c857903965a90eca2ae56cb47efed22f82d774'\n",
    "response = requests.request('GET',url)\n",
    "\n",
    "def json_to_dataframe(response):\n",
    "    return pd.DataFrame(response.json()[1:], columns=response.json()[0])\n",
    "\n",
    "census_df = json_to_dataframe(response) #census American Community Survey Data Profiles \n",
    "census_df = census_df[['NAME','DP03_0008E','DP03_0021E', 'DP03_0062E']]  \n",
    "\n",
    "#Webscraped Census Data on the county level for Georgia\n",
    "census_df[['County','x','y']] = census_df['NAME'].str.split(pat=\" \", expand=True)\n",
    "census_df = census_df.drop(['x','y'], axis=1)\n",
    "census_df['County'] = census_df['County'].str.upper()\n",
    "\n",
    "#Merge with Absentee data to run regressions\n",
    "GA_regression_df= pd.merge(GA_rejected_counts, census_df, how='outer', on='County')\n",
    "GA_regression_df.loc[:,'DP03_0008E':'DP03_0062E'] = GA_regression_df.loc[:,'DP03_0008E':'DP03_0062E'].fillna(0)\n",
    "GA_regression_df.loc[:,'DP03_0008E':'DP03_0062E'] = GA_regression_df.loc[:,'DP03_0008E':'DP03_0062E'].astype(float)\n",
    "\n",
    "GA_reg_data = GA_regression_df.rename(columns={'DP03_0008E':'Employment status civilan workforce',\n",
    "                                               'DP03_0021E':'Commuting to work public transit',\n",
    "                                               'DP03_0062E':'Median household income'})\n"
   ]
  },
  {
   "cell_type": "code",
   "execution_count": 32,
   "id": "73bb6bfe",
   "metadata": {},
   "outputs": [
    {
     "name": "stdout",
     "output_type": "stream",
     "text": [
      "[[ 6.33202081e-04 -4.13300158e-09 -3.59074080e-04]\n",
      " [ 2.22694676e-03 -3.45319651e-08 -1.75882487e-03]\n",
      " [ 1.14657061e-03  1.47347160e-08 -4.67918452e-04]\n",
      " [ 3.72564103e-03 -3.01685753e-08 -2.71354497e-03]]\n"
     ]
    }
   ],
   "source": [
    "from sklearn import linear_model\n",
    "\n",
    "y = GA_reg_data[['2022 Ballots Rejected', '2022 Applications Rejected',\n",
    "                '2020 Ballots Rejected', '2020 Applications Rejected']]\n",
    "x = GA_reg_data[['Employment status civilan workforce',\n",
    "                'Commuting to work public transit', 'Median household income']]\n",
    "\n",
    "regr = linear_model.LinearRegression()\n",
    "\n",
    "for variable in y: \n",
    "    regr.fit(x, y)\n",
    "print(regr.coef_)"
   ]
  },
  {
   "cell_type": "markdown",
   "id": "5f4a03e5",
   "metadata": {},
   "source": [
    "## Georgia Absentee Ballot Tweets Sentiment Analysis\n",
    "\n",
    "To contextualize the narrative around Absentee Ballots in Georgia, I used the snscrape package to web scrape tweets that were posted a month before the election that contained “Absentee”, “Ballot” and “Georgia.” I conducted a sentiment analysis of polarity and subjectivity on all the tweets pulled from 10/8 to 11/8 and visualized the findings using a histogram and Kernal Density Plot. \n"
   ]
  },
  {
   "cell_type": "code",
   "execution_count": 33,
   "id": "87ebcb1e",
   "metadata": {},
   "outputs": [],
   "source": [
    "import snscrape.modules.twitter as sntwitter\n",
    "import spacy\n",
    "import re \n",
    "import nltk\n",
    "nlp = spacy.load('en_core_web_sm')\n",
    "from spacytextblob.spacytextblob import SpacyTextBlob\n",
    "nlp.add_pipe('spacytextblob')\n",
    "import matplotlib.colors as mcolors\n",
    "import seaborn as sns"
   ]
  },
  {
   "cell_type": "code",
   "execution_count": 34,
   "id": "0cfd59a2",
   "metadata": {},
   "outputs": [],
   "source": [
    "#The query is for tweets a month out from the 2022 General Election Day\n",
    "ab_query = 'Georgia absentee ballots until:2022-11-08 since:2022-10-08' \n",
    "ab_tweets = []\n",
    "\n",
    "for tweet in sntwitter.TwitterSearchScraper(ab_query).get_items():\n",
    "    ab_tweets.append([tweet.date, tweet.content])  \n",
    "          \n",
    "ab_tweets_df = pd.DataFrame(ab_tweets, columns=['Date','Tweet'])"
   ]
  },
  {
   "cell_type": "code",
   "execution_count": 35,
   "id": "b215c9ee",
   "metadata": {},
   "outputs": [],
   "source": [
    "#Extract just the tweets for sentiment analysis \n",
    "ab_tweets_only = ab_tweets_df['Tweet']\n",
    "\n",
    "all_ab_tweets_lines= []\n",
    "for word in ab_tweets_only:\n",
    "    all_ab_tweets_lines.append(word)\n",
    "\n",
    "#Turning lines into docs for sentiment analysis\n",
    "docs = [(nlp(text)) for text in all_ab_tweets_lines]\n",
    "    \n",
    "ab_tweet_polarities = []\n",
    "for doc in docs:\n",
    "    polarity = doc._.blob.polarity\n",
    "    ab_tweet_polarities.append(polarity) \n",
    "    \n",
    "ab_tweet_subjectivities = []\n",
    "for doc in docs:\n",
    "    subjectivity = doc._.blob.subjectivity\n",
    "    ab_tweet_subjectivities.append(subjectivity)    \n",
    "    \n",
    "#create a dataframe with polarities and subjectivities for visualization\n",
    "ab_tweet_data = [ab_tweet_polarities, ab_tweet_subjectivities] \n",
    "sentiment_df = pd.DataFrame(ab_tweet_data)\n",
    "sentiment_df = sentiment_df.T \n",
    "sentiment_df = sentiment_df.rename(columns={0:'AB Polarity',\n",
    "                                            1:' AB Subjectivity'})"
   ]
  },
  {
   "cell_type": "code",
   "execution_count": 36,
   "id": "ab8c7be1",
   "metadata": {},
   "outputs": [
    {
     "data": {
      "text/plain": [
       "<seaborn.axisgrid.FacetGrid at 0x7f8785afc370>"
      ]
     },
     "execution_count": 36,
     "metadata": {},
     "output_type": "execute_result"
    },
    {
     "data": {
      "image/png": "[encoded data removed]",
      "text/plain": [
       "<Figure size 475.85x360 with 1 Axes>"
      ]
     },
     "metadata": {},
     "output_type": "display_data"
    }
   ],
   "source": [
    "sns.set_theme(style=\"darkgrid\")\n",
    "sns.set_palette(\"husl\", 2)\n",
    "sns.set_context(font_scale=1.20, rc={\"lines.linewidth\": 2})\n",
    "graph = sns.displot(sentiment_df, kde=True, fill=True).set(title='Sentiment Analysis of Tweets on Absentee Ballots')\n",
    "graph.despine(offset=0, trim=False);\n",
    "graph.set_xlabels('Sentiment Scores')"
   ]
  },
  {
   "cell_type": "code",
   "execution_count": null,
   "id": "19fe425c",
   "metadata": {},
   "outputs": [],
   "source": []
  }
 ],
 "metadata": {
  "kernelspec": {
   "display_name": "Python 3 (ipykernel)",
   "language": "python",
   "name": "python3"
  },
  "language_info": {
   "codemirror_mode": {
    "name": "ipython",
    "version": 3
   },
   "file_extension": ".py",
   "mimetype": "text/x-python",
   "name": "python",
   "nbconvert_exporter": "python",
   "pygments_lexer": "ipython3",
   "version": "3.9.7"
  }
 },
 "nbformat": 4,
 "nbformat_minor": 5
}
